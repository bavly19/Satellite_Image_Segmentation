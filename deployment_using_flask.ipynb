{
  "cells": [
    {
      "cell_type": "code",
      "execution_count": null,
      "metadata": {
        "id": "8EcZCTxUJgx1",
        "colab": {
          "base_uri": "https://localhost:8080/"
        },
        "outputId": "524c0e86-dd5f-4584-a0ba-06b1bcb946a7"
      },
      "outputs": [
        {
          "output_type": "stream",
          "name": "stdout",
          "text": [
            "\u001b[?25l   \u001b[90m━━━━━━━━━━━━━━━━━━━━━━━━━━━━━━━━━━━━━━━━\u001b[0m \u001b[32m0.0/50.7 kB\u001b[0m \u001b[31m?\u001b[0m eta \u001b[36m-:--:--\u001b[0m\r\u001b[2K   \u001b[90m━━━━━━━━━━━━━━━━━━━━━━━━━━━━━━━━━━━━━━━━\u001b[0m \u001b[32m50.7/50.7 kB\u001b[0m \u001b[31m1.6 MB/s\u001b[0m eta \u001b[36m0:00:00\u001b[0m\n",
            "\u001b[?25h"
          ]
        }
      ],
      "source": [
        "!pip install -q tifffile segmentation-models==1.0.1\n"
      ]
    },
    {
      "cell_type": "code",
      "execution_count": null,
      "metadata": {
        "id": "r5raNyRXK_5b"
      },
      "outputs": [],
      "source": [
        "import os\n",
        "import numpy as np\n",
        "import tifffile\n",
        "import matplotlib.pyplot as plt\n",
        "from glob import glob\n",
        "from PIL import Image\n",
        "import random\n",
        "\n",
        "import tensorflow as tf\n",
        "from tensorflow.keras.utils import to_categorical\n",
        "from tensorflow.keras import layers, Model\n"
      ]
    },
    {
      "cell_type": "code",
      "execution_count": null,
      "metadata": {
        "id": "ra1Pmp_lLBp2"
      },
      "outputs": [],
      "source": [
        "def load_and_normalize_tiff(image_path):\n",
        "    image = tifffile.imread(image_path)\n",
        "\n",
        "    if len(image.shape) == 3 and image.shape[0] == 12:\n",
        "        image = np.transpose(image, (1, 2, 0))\n",
        "\n",
        "    normalized = np.zeros_like(image, dtype=np.float32)\n",
        "    for i in range(image.shape[2]):\n",
        "        layer = image[:, :, i].astype(np.float32)\n",
        "        if layer.max() > layer.min():\n",
        "            normalized[:, :, i] = (layer - layer.min()) / (layer.max() - layer.min())\n",
        "    return normalized\n",
        "\n",
        "def load_mask(mask_path):\n",
        "    mask = np.array(Image.open(mask_path))\n",
        "    if len(mask.shape) == 3:\n",
        "        mask = mask[:, :, 0]\n",
        "    return mask\n"
      ]
    },
    {
      "cell_type": "code",
      "execution_count": null,
      "metadata": {
        "id": "R2lifqQJLDKV"
      },
      "outputs": [],
      "source": [
        "def load_dataset(image_dir, mask_dir):\n",
        "    image_paths = sorted(glob(os.path.join(image_dir, '*.tif')))\n",
        "    mask_paths = sorted(glob(os.path.join(mask_dir, '*.png')))\n",
        "\n",
        "    images = [load_and_normalize_tiff(p) for p in image_paths]\n",
        "    masks = [load_mask(p) for p in mask_paths]\n",
        "\n",
        "    return np.array(images), np.array(masks)\n"
      ]
    },
    {
      "cell_type": "code",
      "execution_count": null,
      "metadata": {
        "id": "3_6MwYvjLF0x"
      },
      "outputs": [],
      "source": [
        "def deeplabv3_plus_model(input_shape, num_classes):\n",
        "    inputs = layers.Input(shape=input_shape)\n",
        "\n",
        "    # Encoder\n",
        "    x = layers.Conv2D(64, 3, strides=2, padding='same', activation='relu')(inputs)\n",
        "    x = layers.BatchNormalization()(x)\n",
        "    x = layers.Conv2D(64, 3, padding='same', activation='relu')(x)\n",
        "    x = layers.BatchNormalization()(x)\n",
        "    low_level_features = x\n",
        "\n",
        "    x = layers.Conv2D(128, 3, strides=2, padding='same', activation='relu')(x)\n",
        "    x = layers.BatchNormalization()(x)\n",
        "    x = layers.Conv2D(128, 3, padding='same', activation='relu')(x)\n",
        "    x = layers.BatchNormalization()(x)\n",
        "\n",
        "    # ASPP\n",
        "    aspp1 = layers.Conv2D(256, 1, padding='same', activation='relu')(x)\n",
        "    aspp2 = layers.Conv2D(256, 3, padding='same', dilation_rate=6, activation='relu')(x)\n",
        "    aspp3 = layers.Conv2D(256, 3, padding='same', dilation_rate=12, activation='relu')(x)\n",
        "    aspp4 = layers.Conv2D(256, 3, padding='same', dilation_rate=18, activation='relu')(x)\n",
        "\n",
        "    avg = layers.GlobalAveragePooling2D()(x)\n",
        "    avg = layers.Reshape((1, 1, x.shape[-1]))(avg)\n",
        "    avg = layers.Conv2D(256, 1, activation='relu')(avg)\n",
        "    avg = layers.UpSampling2D(size=(x.shape[1], x.shape[2]), interpolation='bilinear')(avg)\n",
        "\n",
        "    x = layers.concatenate([aspp1, aspp2, aspp3, aspp4, avg])\n",
        "    x = layers.Conv2D(256, 1, activation='relu')(x)\n",
        "    x = layers.BatchNormalization()(x)\n",
        "    x = layers.UpSampling2D(size=(2, 2), interpolation='bilinear')(x)\n",
        "\n",
        "    # Decoder\n",
        "    low = layers.Conv2D(48, 1, padding='same', activation='relu')(low_level_features)\n",
        "    low = layers.BatchNormalization()(low)\n",
        "    x = layers.concatenate([x, low])\n",
        "    x = layers.Conv2D(256, 3, padding='same', activation='relu')(x)\n",
        "    x = layers.BatchNormalization()(x)\n",
        "    x = layers.Conv2D(256, 3, padding='same', activation='relu')(x)\n",
        "    x = layers.BatchNormalization()(x)\n",
        "\n",
        "    x = layers.UpSampling2D(size=(2, 2), interpolation='bilinear')(x)\n",
        "    outputs = layers.Conv2D(num_classes, 1, activation='softmax')(x)\n",
        "\n",
        "    return Model(inputs, outputs)\n"
      ]
    },
    {
      "cell_type": "code",
      "execution_count": null,
      "metadata": {
        "id": "-9qEfy2ALKhI"
      },
      "outputs": [],
      "source": [
        "import os\n",
        "from glob import glob\n",
        "import numpy as np\n",
        "import tifffile\n",
        "from PIL import Image\n",
        "\n",
        "def load_images_and_masks(image_dir, mask_dir):\n",
        "    image_paths = sorted(glob(os.path.join(image_dir, \"*.tif\")))\n",
        "    mask_paths = sorted(glob(os.path.join(mask_dir, \"*.png\")))\n",
        "\n",
        "    X = []\n",
        "    Y = []\n",
        "\n",
        "    image_names = [os.path.basename(p).replace(\".tif\", \"\") for p in image_paths]\n",
        "    mask_dict = {os.path.basename(p).replace(\".png\", \"\"): p for p in mask_paths}\n",
        "\n",
        "    for name in image_names:\n",
        "        if name in mask_dict:\n",
        "            img_path = os.path.join(image_dir, f\"{name}.tif\")\n",
        "            mask_path = mask_dict[name]\n",
        "\n",
        "            # Load and normalize image\n",
        "            image = tifffile.imread(img_path)\n",
        "            if image.shape[0] == 12:  # Channels first\n",
        "                image = np.transpose(image, (1, 2, 0))\n",
        "            image = image.astype(np.float32)\n",
        "            for i in range(image.shape[-1]):\n",
        "                layer = image[:, :, i]\n",
        "                image[:, :, i] = (layer - layer.min()) / (layer.max() - layer.min() + 1e-5)\n",
        "            X.append(image)\n",
        "\n",
        "            # Load mask\n",
        "            mask = np.array(Image.open(mask_path))\n",
        "            if mask.ndim == 3:\n",
        "                mask = mask[:, :, 0]\n",
        "            Y.append(mask)\n",
        "\n",
        "    return np.array(X), np.array(Y)\n"
      ]
    },
    {
      "cell_type": "code",
      "execution_count": null,
      "metadata": {
        "colab": {
          "base_uri": "https://localhost:8080/"
        },
        "id": "BhhFvCATPaPj",
        "outputId": "1aa0d377-227c-491a-c576-2c5936f2771d"
      },
      "outputs": [
        {
          "output_type": "stream",
          "name": "stdout",
          "text": [
            "Loaded images: (306, 128, 128, 12)\n",
            "Loaded masks: (306, 128, 128)\n"
          ]
        }
      ],
      "source": [
        "X, Y = load_images_and_masks(\"/content/drive/MyDrive/AI/satalite data/data/images\", \"/content/drive/MyDrive/AI/satalite data/data/labels\")\n",
        "\n",
        "print(\"Loaded images:\", X.shape)\n",
        "print(\"Loaded masks:\", Y.shape)\n"
      ]
    },
    {
      "cell_type": "code",
      "execution_count": null,
      "metadata": {
        "id": "5FwPymEdPlB5"
      },
      "outputs": [],
      "source": [
        "from tensorflow.keras.utils import to_categorical\n",
        "from sklearn.model_selection import train_test_split\n",
        "\n",
        "num_classes = len(np.unique(Y))\n",
        "Y_cat = to_categorical(Y, num_classes=num_classes)\n",
        "\n",
        "X_train, X_val, Y_train, Y_val = train_test_split(X, Y_cat, test_size=0.2, random_state=42)\n"
      ]
    },
    {
      "cell_type": "code",
      "execution_count": null,
      "metadata": {
        "colab": {
          "base_uri": "https://localhost:8080/"
        },
        "id": "Id6iaOlRLyia",
        "outputId": "ff602258-ac0b-45ce-b128-fe936800af12"
      },
      "outputs": [
        {
          "output_type": "stream",
          "name": "stdout",
          "text": [
            "Epoch 1/15\n",
            "\u001b[1m31/31\u001b[0m \u001b[32m━━━━━━━━━━━━━━━━━━━━\u001b[0m\u001b[37m\u001b[0m \u001b[1m331s\u001b[0m 10s/step - accuracy: 0.7026 - loss: 1.0884 - val_accuracy: 0.8433 - val_loss: 0.3861\n",
            "Epoch 2/15\n",
            "\u001b[1m31/31\u001b[0m \u001b[32m━━━━━━━━━━━━━━━━━━━━\u001b[0m\u001b[37m\u001b[0m \u001b[1m320s\u001b[0m 10s/step - accuracy: 0.8351 - loss: 0.4018 - val_accuracy: 0.7891 - val_loss: 0.4791\n",
            "Epoch 3/15\n",
            "\u001b[1m31/31\u001b[0m \u001b[32m━━━━━━━━━━━━━━━━━━━━\u001b[0m\u001b[37m\u001b[0m \u001b[1m325s\u001b[0m 10s/step - accuracy: 0.8705 - loss: 0.3303 - val_accuracy: 0.7756 - val_loss: 0.5155\n",
            "Epoch 4/15\n",
            "\u001b[1m31/31\u001b[0m \u001b[32m━━━━━━━━━━━━━━━━━━━━\u001b[0m\u001b[37m\u001b[0m \u001b[1m377s\u001b[0m 10s/step - accuracy: 0.8890 - loss: 0.2785 - val_accuracy: 0.7756 - val_loss: 0.4870\n",
            "Epoch 5/15\n",
            "\u001b[1m31/31\u001b[0m \u001b[32m━━━━━━━━━━━━━━━━━━━━\u001b[0m\u001b[37m\u001b[0m \u001b[1m320s\u001b[0m 10s/step - accuracy: 0.8755 - loss: 0.2875 - val_accuracy: 0.8003 - val_loss: 0.4115\n",
            "Epoch 6/15\n",
            "\u001b[1m31/31\u001b[0m \u001b[32m━━━━━━━━━━━━━━━━━━━━\u001b[0m\u001b[37m\u001b[0m \u001b[1m323s\u001b[0m 10s/step - accuracy: 0.9082 - loss: 0.2400 - val_accuracy: 0.7764 - val_loss: 0.4805\n",
            "Epoch 7/15\n",
            "\u001b[1m31/31\u001b[0m \u001b[32m━━━━━━━━━━━━━━━━━━━━\u001b[0m\u001b[37m\u001b[0m \u001b[1m321s\u001b[0m 10s/step - accuracy: 0.8980 - loss: 0.2610 - val_accuracy: 0.8742 - val_loss: 0.2835\n",
            "Epoch 8/15\n",
            "\u001b[1m31/31\u001b[0m \u001b[32m━━━━━━━━━━━━━━━━━━━━\u001b[0m\u001b[37m\u001b[0m \u001b[1m318s\u001b[0m 10s/step - accuracy: 0.9099 - loss: 0.2222 - val_accuracy: 0.8483 - val_loss: 0.3277\n",
            "Epoch 9/15\n",
            "\u001b[1m31/31\u001b[0m \u001b[32m━━━━━━━━━━━━━━━━━━━━\u001b[0m\u001b[37m\u001b[0m \u001b[1m326s\u001b[0m 10s/step - accuracy: 0.9181 - loss: 0.2165 - val_accuracy: 0.8090 - val_loss: 0.3599\n",
            "Epoch 10/15\n",
            "\u001b[1m31/31\u001b[0m \u001b[32m━━━━━━━━━━━━━━━━━━━━\u001b[0m\u001b[37m\u001b[0m \u001b[1m321s\u001b[0m 10s/step - accuracy: 0.9186 - loss: 0.2127 - val_accuracy: 0.8635 - val_loss: 0.2920\n",
            "Epoch 11/15\n",
            "\u001b[1m31/31\u001b[0m \u001b[32m━━━━━━━━━━━━━━━━━━━━\u001b[0m\u001b[37m\u001b[0m \u001b[1m320s\u001b[0m 10s/step - accuracy: 0.9205 - loss: 0.2056 - val_accuracy: 0.8716 - val_loss: 0.2806\n",
            "Epoch 12/15\n",
            "\u001b[1m31/31\u001b[0m \u001b[32m━━━━━━━━━━━━━━━━━━━━\u001b[0m\u001b[37m\u001b[0m \u001b[1m323s\u001b[0m 10s/step - accuracy: 0.9197 - loss: 0.2006 - val_accuracy: 0.9061 - val_loss: 0.2193\n",
            "Epoch 13/15\n",
            "\u001b[1m31/31\u001b[0m \u001b[32m━━━━━━━━━━━━━━━━━━━━\u001b[0m\u001b[37m\u001b[0m \u001b[1m321s\u001b[0m 10s/step - accuracy: 0.9195 - loss: 0.2114 - val_accuracy: 0.9282 - val_loss: 0.1874\n",
            "Epoch 14/15\n",
            "\u001b[1m31/31\u001b[0m \u001b[32m━━━━━━━━━━━━━━━━━━━━\u001b[0m\u001b[37m\u001b[0m \u001b[1m320s\u001b[0m 10s/step - accuracy: 0.9383 - loss: 0.1648 - val_accuracy: 0.9412 - val_loss: 0.1530\n",
            "Epoch 15/15\n",
            "\u001b[1m31/31\u001b[0m \u001b[32m━━━━━━━━━━━━━━━━━━━━\u001b[0m\u001b[37m\u001b[0m \u001b[1m341s\u001b[0m 11s/step - accuracy: 0.9343 - loss: 0.1802 - val_accuracy: 0.9440 - val_loss: 0.1446\n"
          ]
        }
      ],
      "source": [
        "model = deeplabv3_plus_model(input_shape=(128, 128, 12), num_classes=num_classes)\n",
        "model.compile(optimizer='adam', loss='categorical_crossentropy', metrics=['accuracy'])\n",
        "\n",
        "history = model.fit(X_train, Y_train, validation_data=(X_val, Y_val), epochs=15, batch_size=8)\n",
        "model.save(\"deeplab_model.keras\")\n"
      ]
    },
    {
      "cell_type": "code",
      "execution_count": 2,
      "metadata": {
        "id": "MS0qmxvtPxB9"
      },
      "outputs": [],
      "source": [
        "!pip install flask flask-ngrok tifffile --quiet\n"
      ]
    },
    {
      "cell_type": "code",
      "source": [
        "def preprocess_tiff_image(path):\n",
        "    image = tifffile.imread(path)\n",
        "    if image.shape[0] == 12:  # (12, H, W)\n",
        "        image = np.transpose(image, (1, 2, 0))\n",
        "    image = image.astype(np.float32)\n",
        "    for i in range(image.shape[-1]):\n",
        "        layer = image[:, :, i]\n",
        "        image[:, :, i] = (layer - layer.min()) / (layer.max() - layer.min() + 1e-5)\n",
        "    return np.expand_dims(image, axis=0)  # shape: (1, H, W, 12)\n"
      ],
      "metadata": {
        "id": "OYWodWheT_79"
      },
      "execution_count": 18,
      "outputs": []
    },
    {
      "cell_type": "code",
      "source": [
        "def save_comparison(pred_mask, gt_mask, save_path=\"static/comparison.png\"):\n",
        "    plt.figure(figsize=(10, 5))\n",
        "\n",
        "    plt.subplot(1, 2, 1)\n",
        "    plt.title(\"Ground Truth\")\n",
        "    plt.imshow(gt_mask, cmap=\"viridis\")\n",
        "    plt.axis('off')\n",
        "\n",
        "    plt.subplot(1, 2, 2)\n",
        "    plt.title(\"Predicted Mask\")\n",
        "    plt.imshow(pred_mask, cmap=\"viridis\")\n",
        "    plt.axis('off')\n",
        "\n",
        "    plt.tight_layout()\n",
        "    plt.savefig(save_path)\n",
        "    plt.close()\n"
      ],
      "metadata": {
        "id": "EPEcEfuxYkrY"
      },
      "execution_count": 19,
      "outputs": []
    },
    {
      "cell_type": "code",
      "source": [
        "import matplotlib.pyplot as plt\n",
        "import os\n",
        "\n",
        "def save_prediction_mask(pred, save_path=\"static/prediction.png\"):\n",
        "    mask = np.argmax(pred, axis=-1)[0]  # shape: (H, W)\n",
        "    plt.imsave(save_path, mask, cmap=\"viridis\")\n"
      ],
      "metadata": {
        "id": "X-j-VqrFUFN4"
      },
      "execution_count": 20,
      "outputs": []
    },
    {
      "cell_type": "code",
      "source": [
        "from google.colab import files\n",
        "files.download('deeplab_model.keras')  # أو .h5 لو استخدمت الصيغة القديمة\n"
      ],
      "metadata": {
        "colab": {
          "base_uri": "https://localhost:8080/",
          "height": 17
        },
        "id": "k3YO3tEie1h2",
        "outputId": "18c4ca21-236d-4fda-fa4e-fd7b7282d2ac"
      },
      "execution_count": null,
      "outputs": [
        {
          "output_type": "display_data",
          "data": {
            "text/plain": [
              "<IPython.core.display.Javascript object>"
            ],
            "application/javascript": [
              "\n",
              "    async function download(id, filename, size) {\n",
              "      if (!google.colab.kernel.accessAllowed) {\n",
              "        return;\n",
              "      }\n",
              "      const div = document.createElement('div');\n",
              "      const label = document.createElement('label');\n",
              "      label.textContent = `Downloading \"${filename}\": `;\n",
              "      div.appendChild(label);\n",
              "      const progress = document.createElement('progress');\n",
              "      progress.max = size;\n",
              "      div.appendChild(progress);\n",
              "      document.body.appendChild(div);\n",
              "\n",
              "      const buffers = [];\n",
              "      let downloaded = 0;\n",
              "\n",
              "      const channel = await google.colab.kernel.comms.open(id);\n",
              "      // Send a message to notify the kernel that we're ready.\n",
              "      channel.send({})\n",
              "\n",
              "      for await (const message of channel.messages) {\n",
              "        // Send a message to notify the kernel that we're ready.\n",
              "        channel.send({})\n",
              "        if (message.buffers) {\n",
              "          for (const buffer of message.buffers) {\n",
              "            buffers.push(buffer);\n",
              "            downloaded += buffer.byteLength;\n",
              "            progress.value = downloaded;\n",
              "          }\n",
              "        }\n",
              "      }\n",
              "      const blob = new Blob(buffers, {type: 'application/binary'});\n",
              "      const a = document.createElement('a');\n",
              "      a.href = window.URL.createObjectURL(blob);\n",
              "      a.download = filename;\n",
              "      div.appendChild(a);\n",
              "      a.click();\n",
              "      div.remove();\n",
              "    }\n",
              "  "
            ]
          },
          "metadata": {}
        },
        {
          "output_type": "display_data",
          "data": {
            "text/plain": [
              "<IPython.core.display.Javascript object>"
            ],
            "application/javascript": [
              "download(\"download_6b0cf5d1-0688-40b0-b866-fdd3b82b11c5\", \"deeplab_model.keras\", 34263625)"
            ]
          },
          "metadata": {}
        }
      ]
    },
    {
      "cell_type": "code",
      "source": [
        "from google.colab import files\n",
        "uploaded = files.upload()\n"
      ],
      "metadata": {
        "colab": {
          "base_uri": "https://localhost:8080/",
          "height": 74
        },
        "id": "Wu2eNk7H4_aa",
        "outputId": "a9d161b6-ca1a-4a9a-b686-7c1a20bd8a23"
      },
      "execution_count": 11,
      "outputs": [
        {
          "output_type": "display_data",
          "data": {
            "text/plain": [
              "<IPython.core.display.HTML object>"
            ],
            "text/html": [
              "\n",
              "     <input type=\"file\" id=\"files-3a7cc467-4b75-496b-9d8c-41b767bfce3c\" name=\"files[]\" multiple disabled\n",
              "        style=\"border:none\" />\n",
              "     <output id=\"result-3a7cc467-4b75-496b-9d8c-41b767bfce3c\">\n",
              "      Upload widget is only available when the cell has been executed in the\n",
              "      current browser session. Please rerun this cell to enable.\n",
              "      </output>\n",
              "      <script>// Copyright 2017 Google LLC\n",
              "//\n",
              "// Licensed under the Apache License, Version 2.0 (the \"License\");\n",
              "// you may not use this file except in compliance with the License.\n",
              "// You may obtain a copy of the License at\n",
              "//\n",
              "//      http://www.apache.org/licenses/LICENSE-2.0\n",
              "//\n",
              "// Unless required by applicable law or agreed to in writing, software\n",
              "// distributed under the License is distributed on an \"AS IS\" BASIS,\n",
              "// WITHOUT WARRANTIES OR CONDITIONS OF ANY KIND, either express or implied.\n",
              "// See the License for the specific language governing permissions and\n",
              "// limitations under the License.\n",
              "\n",
              "/**\n",
              " * @fileoverview Helpers for google.colab Python module.\n",
              " */\n",
              "(function(scope) {\n",
              "function span(text, styleAttributes = {}) {\n",
              "  const element = document.createElement('span');\n",
              "  element.textContent = text;\n",
              "  for (const key of Object.keys(styleAttributes)) {\n",
              "    element.style[key] = styleAttributes[key];\n",
              "  }\n",
              "  return element;\n",
              "}\n",
              "\n",
              "// Max number of bytes which will be uploaded at a time.\n",
              "const MAX_PAYLOAD_SIZE = 100 * 1024;\n",
              "\n",
              "function _uploadFiles(inputId, outputId) {\n",
              "  const steps = uploadFilesStep(inputId, outputId);\n",
              "  const outputElement = document.getElementById(outputId);\n",
              "  // Cache steps on the outputElement to make it available for the next call\n",
              "  // to uploadFilesContinue from Python.\n",
              "  outputElement.steps = steps;\n",
              "\n",
              "  return _uploadFilesContinue(outputId);\n",
              "}\n",
              "\n",
              "// This is roughly an async generator (not supported in the browser yet),\n",
              "// where there are multiple asynchronous steps and the Python side is going\n",
              "// to poll for completion of each step.\n",
              "// This uses a Promise to block the python side on completion of each step,\n",
              "// then passes the result of the previous step as the input to the next step.\n",
              "function _uploadFilesContinue(outputId) {\n",
              "  const outputElement = document.getElementById(outputId);\n",
              "  const steps = outputElement.steps;\n",
              "\n",
              "  const next = steps.next(outputElement.lastPromiseValue);\n",
              "  return Promise.resolve(next.value.promise).then((value) => {\n",
              "    // Cache the last promise value to make it available to the next\n",
              "    // step of the generator.\n",
              "    outputElement.lastPromiseValue = value;\n",
              "    return next.value.response;\n",
              "  });\n",
              "}\n",
              "\n",
              "/**\n",
              " * Generator function which is called between each async step of the upload\n",
              " * process.\n",
              " * @param {string} inputId Element ID of the input file picker element.\n",
              " * @param {string} outputId Element ID of the output display.\n",
              " * @return {!Iterable<!Object>} Iterable of next steps.\n",
              " */\n",
              "function* uploadFilesStep(inputId, outputId) {\n",
              "  const inputElement = document.getElementById(inputId);\n",
              "  inputElement.disabled = false;\n",
              "\n",
              "  const outputElement = document.getElementById(outputId);\n",
              "  outputElement.innerHTML = '';\n",
              "\n",
              "  const pickedPromise = new Promise((resolve) => {\n",
              "    inputElement.addEventListener('change', (e) => {\n",
              "      resolve(e.target.files);\n",
              "    });\n",
              "  });\n",
              "\n",
              "  const cancel = document.createElement('button');\n",
              "  inputElement.parentElement.appendChild(cancel);\n",
              "  cancel.textContent = 'Cancel upload';\n",
              "  const cancelPromise = new Promise((resolve) => {\n",
              "    cancel.onclick = () => {\n",
              "      resolve(null);\n",
              "    };\n",
              "  });\n",
              "\n",
              "  // Wait for the user to pick the files.\n",
              "  const files = yield {\n",
              "    promise: Promise.race([pickedPromise, cancelPromise]),\n",
              "    response: {\n",
              "      action: 'starting',\n",
              "    }\n",
              "  };\n",
              "\n",
              "  cancel.remove();\n",
              "\n",
              "  // Disable the input element since further picks are not allowed.\n",
              "  inputElement.disabled = true;\n",
              "\n",
              "  if (!files) {\n",
              "    return {\n",
              "      response: {\n",
              "        action: 'complete',\n",
              "      }\n",
              "    };\n",
              "  }\n",
              "\n",
              "  for (const file of files) {\n",
              "    const li = document.createElement('li');\n",
              "    li.append(span(file.name, {fontWeight: 'bold'}));\n",
              "    li.append(span(\n",
              "        `(${file.type || 'n/a'}) - ${file.size} bytes, ` +\n",
              "        `last modified: ${\n",
              "            file.lastModifiedDate ? file.lastModifiedDate.toLocaleDateString() :\n",
              "                                    'n/a'} - `));\n",
              "    const percent = span('0% done');\n",
              "    li.appendChild(percent);\n",
              "\n",
              "    outputElement.appendChild(li);\n",
              "\n",
              "    const fileDataPromise = new Promise((resolve) => {\n",
              "      const reader = new FileReader();\n",
              "      reader.onload = (e) => {\n",
              "        resolve(e.target.result);\n",
              "      };\n",
              "      reader.readAsArrayBuffer(file);\n",
              "    });\n",
              "    // Wait for the data to be ready.\n",
              "    let fileData = yield {\n",
              "      promise: fileDataPromise,\n",
              "      response: {\n",
              "        action: 'continue',\n",
              "      }\n",
              "    };\n",
              "\n",
              "    // Use a chunked sending to avoid message size limits. See b/62115660.\n",
              "    let position = 0;\n",
              "    do {\n",
              "      const length = Math.min(fileData.byteLength - position, MAX_PAYLOAD_SIZE);\n",
              "      const chunk = new Uint8Array(fileData, position, length);\n",
              "      position += length;\n",
              "\n",
              "      const base64 = btoa(String.fromCharCode.apply(null, chunk));\n",
              "      yield {\n",
              "        response: {\n",
              "          action: 'append',\n",
              "          file: file.name,\n",
              "          data: base64,\n",
              "        },\n",
              "      };\n",
              "\n",
              "      let percentDone = fileData.byteLength === 0 ?\n",
              "          100 :\n",
              "          Math.round((position / fileData.byteLength) * 100);\n",
              "      percent.textContent = `${percentDone}% done`;\n",
              "\n",
              "    } while (position < fileData.byteLength);\n",
              "  }\n",
              "\n",
              "  // All done.\n",
              "  yield {\n",
              "    response: {\n",
              "      action: 'complete',\n",
              "    }\n",
              "  };\n",
              "}\n",
              "\n",
              "scope.google = scope.google || {};\n",
              "scope.google.colab = scope.google.colab || {};\n",
              "scope.google.colab._files = {\n",
              "  _uploadFiles,\n",
              "  _uploadFilesContinue,\n",
              "};\n",
              "})(self);\n",
              "</script> "
            ]
          },
          "metadata": {}
        },
        {
          "output_type": "stream",
          "name": "stdout",
          "text": [
            "Saving deeplab_model.keras to deeplab_model.keras\n"
          ]
        }
      ]
    },
    {
      "cell_type": "code",
      "source": [
        "from tensorflow.keras.models import load_model\n",
        "model = load_model(\"deeplab_model.keras\", compile=False)\n"
      ],
      "metadata": {
        "id": "VbxhK9KT4_MJ"
      },
      "execution_count": 15,
      "outputs": []
    },
    {
      "cell_type": "code",
      "source": [
        "!pip install pyngrok\n"
      ],
      "metadata": {
        "colab": {
          "base_uri": "https://localhost:8080/"
        },
        "id": "Dm2Z-lb04OlF",
        "outputId": "13dcb808-7c2b-4cb3-c776-158c9100642d"
      },
      "execution_count": 6,
      "outputs": [
        {
          "output_type": "stream",
          "name": "stdout",
          "text": [
            "Collecting pyngrok\n",
            "  Downloading pyngrok-7.2.12-py3-none-any.whl.metadata (9.4 kB)\n",
            "Requirement already satisfied: PyYAML>=5.1 in /usr/local/lib/python3.11/dist-packages (from pyngrok) (6.0.2)\n",
            "Downloading pyngrok-7.2.12-py3-none-any.whl (26 kB)\n",
            "Installing collected packages: pyngrok\n",
            "Successfully installed pyngrok-7.2.12\n"
          ]
        }
      ]
    },
    {
      "cell_type": "code",
      "source": [
        "!ngrok config add-authtoken 30UXwr4SVptRIFWfBFlDaBbfx1w_6d6q4Gf7h1yHgPkyCEnFf\n"
      ],
      "metadata": {
        "colab": {
          "base_uri": "https://localhost:8080/"
        },
        "id": "vHaBqVTK4aer",
        "outputId": "8a38a673-52f0-4835-ce27-c99bb50a234e"
      },
      "execution_count": 8,
      "outputs": [
        {
          "output_type": "stream",
          "name": "stdout",
          "text": [
            "Authtoken saved to configuration file: /root/.config/ngrok/ngrok.yml\n"
          ]
        }
      ]
    },
    {
      "cell_type": "code",
      "source": [
        "GROUND_TRUTH_MASK_DIR = \"/content/drive/MyDrive/AI/satalite data/data/labels\"\n"
      ],
      "metadata": {
        "id": "f6em9mUcZ0ga"
      },
      "execution_count": 21,
      "outputs": []
    },
    {
      "cell_type": "code",
      "source": [
        "import os\n",
        "print(os.listdir(\"/content/drive/MyDrive/AI/satalite data/data/labels\"))\n"
      ],
      "metadata": {
        "colab": {
          "base_uri": "https://localhost:8080/"
        },
        "id": "-K9SpTKkcWcV",
        "outputId": "0a952d4f-98dd-4920-f0bf-55fef9cb092b"
      },
      "execution_count": 26,
      "outputs": [
        {
          "output_type": "stream",
          "name": "stdout",
          "text": [
            "['45.png', '150.png', '102.png', '249.png', '118.png', '21.png', '93.png', '217.png', '41.png', '66.png', '183.png', '240.png', '77.png', '267.png', '127.png', '134.png', '245.png', '13.png', '186.png', '268.png', '16.png', '187.png', '116.png', '204.png', '278.png', '205.png', '59.png', '138.png', '302.png', '172.png', '198.png', '296.png', '57.png', '60.png', '106.png', '137.png', '192.png', '62.png', '223.png', '236.png', '126.png', '272.png', '276.png', '113.png', '260.png', '135.png', '287.png', '56.png', '68.png', '105.png', '114.png', '90.png', '14.png', '42.png', '49.png', '202.png', '293.png', '142.png', '1.png', '119.png', '225.png', '81.png', '256.png', '242.png', '182.png', '254.png', '303.png', '103.png', '234.png', '84.png', '140.png', '18.png', '194.png', '301.png', '159.png', '10.png', '163.png', '261.png', '179.png', '51.png', '110.png', '29.png', '185.png', '165.png', '201.png', '44.png', '2.png', '75.png', '221.png', '258.png', '299.png', '257.png', '52.png', '176.png', '158.png', '206.png', '181.png', '87.png', '24.png', '46.png', '20.png', '70.png', '290.png', '246.png', '173.png', '15.png', '297.png', '289.png', '34.png', '292.png', '270.png', '58.png', '255.png', '164.png', '123.png', '91.png', '23.png', '5.png', '40.png', '112.png', '212.png', '226.png', '238.png', '35.png', '298.png', '277.png', '269.png', '239.png', '252.png', '190.png', '55.png', '266.png', '39.png', '300.png', '9.png', '4.png', '107.png', '48.png', '215.png', '128.png', '243.png', '88.png', '193.png', '53.png', '157.png', '152.png', '271.png', '197.png', '154.png', '30.png', '37.png', '100.png', '178.png', '26.png', '180.png', '295.png', '284.png', '241.png', '67.png', '38.png', '146.png', '108.png', '264.png', '174.png', '155.png', '216.png', '129.png', '219.png', '139.png', '64.png', '133.png', '167.png', '263.png', '288.png', '65.png', '188.png', '200.png', '71.png', '0.png', '232.png', '17.png', '92.png', '76.png', '131.png', '109.png', '210.png', '27.png', '211.png', '86.png', '28.png', '207.png', '156.png', '283.png', '248.png', '213.png', '281.png', '233.png', '244.png', '220.png', '304.png', '7.png', '151.png', '148.png', '132.png', '63.png', '265.png', '47.png', '89.png', '6.png', '3.png', '275.png', '130.png', '96.png', '95.png', '85.png', '222.png', '78.png', '169.png', '115.png', '253.png', '214.png', '294.png', '94.png', '111.png', '25.png', '229.png', '170.png', '209.png', '262.png', '61.png', '120.png', '143.png', '73.png', '228.png', '279.png', '189.png', '291.png', '196.png', '36.png', '33.png', '83.png', '32.png', '208.png', '247.png', '153.png', '259.png', '101.png', '124.png', '305.png', '125.png', '227.png', '147.png', '177.png', '79.png', '191.png', '82.png', '31.png', '121.png', '175.png', '250.png', '97.png', '285.png', '282.png', '160.png', '104.png', '195.png', '22.png', '230.png', '50.png', '141.png', '273.png', '218.png', '99.png', '8.png', '280.png', '72.png', '171.png', '69.png', '122.png', '12.png', '237.png', '251.png', '11.png', '136.png', '74.png', '80.png', '162.png', '286.png', '145.png', '98.png', '203.png', '149.png', '117.png', '235.png', '144.png', '19.png', '54.png', '161.png', '184.png', '274.png', '199.png', '43.png', '166.png', '224.png', '168.png', '231.png', '1_226.png', '2_215.png', '3_74.png', '4_300.png', '5_275.png', '6_248.png', '7_146.png', '8_73.png', '9_202.png', '10_244.png', '11_116.png', '12_286.png', '13_234.png', '14_135.png', '15_233.png', '16_229.png', '17_60.png', '18_42.png', '19_293.png', '20_283.png', '21_254.png', '22_16.png', '23_251.png', '24_111.png', '25_172.png', '26_274.png', '27_290.png', '28_2.png', '29_186.png', '30_143.png', '31_196.png', '32_11.png', '33_134.png', '34_239.png', '35_30.png', '36_240.png', '37_118.png', '38_68.png', '39_27.png', '40_277.png', '41_77.png', '42_281.png', '43_149.png', '44_191.png', '45_158.png', '46_55.png', '47_15.png', '48_12.png', '49_64.png', '50_263.png', '51_91.png', '52_160.png', '53_43.png', '54_51.png', '55_219.png', '56_19.png', '57_45.png', '58_114.png', '59_132.png', '60_245.png', '61_206.png', '62_187.png', '63_17.png', '64_86.png', '65_203.png', '66_22.png', '67_156.png', '68_180.png', '69_18.png', '70_268.png', '71_120.png', '72_205.png', '73_23.png', '74_65.png', '75_52.png', '76_92.png', '77_61.png', '78_246.png', '79_161.png', '80_124.png', '81_9.png', '82_100.png', '83_131.png', '84_76.png', '85_117.png', '86_288.png', '87_182.png', '88_157.png', '89_228.png', '90_303.png', '91_102.png', '92_272.png', '93_217.png', '94_119.png', '95_221.png', '96_154.png', '97_130.png', '98_253.png', '99_170.png', '100_184.png', '101_89.png', '102_179.png', '103_225.png', '104_20.png', '105_148.png', '106_267.png', '107_59.png', '108_236.png', '109_223.png', '110_287.png', '111_121.png', '112_78.png', '113_44.png', '114_220.png', '115_49.png', '116_250.png', '117_97.png', '118_125.png', '119_222.png', '120_305.png', '121_142.png', '122_257.png', '123_145.png', '124_95.png', '125_201.png', '126_110.png', '127_54.png', '128_294.png', '129_177.png', '130_256.png', '131_185.png', '132_126.png', '133_224.png', '134_153.png', '135_56.png', '136_301.png', '137_140.png', '138_39.png', '139_108.png', '140_34.png', '141_237.png', '142_238.png', '143_183.png', '144_235.png', '145_164.png', '146_84.png', '147_213.png', '148_297.png', '149_166.png', '150_243.png']\n"
          ]
        }
      ]
    },
    {
      "cell_type": "code",
      "source": [
        "import os\n",
        "os.makedirs(\"static\", exist_ok=True)"
      ],
      "metadata": {
        "id": "mF8TJqKGdOtT"
      },
      "execution_count": 29,
      "outputs": []
    },
    {
      "cell_type": "code",
      "source": [
        "from flask import Flask, request, render_template_string, send_file\n",
        "from pyngrok import ngrok\n",
        "import numpy as np\n",
        "import tifffile\n",
        "from PIL import Image\n",
        "import matplotlib.pyplot as plt\n",
        "import io\n",
        "\n",
        "from flask import Flask\n",
        "from tensorflow.keras.models import load_model\n",
        "\n",
        "model = load_model(\"deeplab_model.keras\", compile=False)\n",
        "\n",
        "GROUND_TRUTH_MASK_DIR = \"/content/drive/MyDrive/AI/satalite data/data/labels\"\n",
        "\n",
        "# إنشاء Flask app\n",
        "app = Flask(__name__)\n",
        "public_url = ngrok.connect(5000)\n",
        "print(\"🚀 Flask app running at:\", public_url)\n",
        "\n",
        "# HTML واجهة بسيطة\n",
        "html = \"\"\"\n",
        "<!doctype html>\n",
        "<html lang=\"en\">\n",
        "<head>\n",
        "  <meta charset=\"UTF-8\">\n",
        "  <title>🛰️ DeepLabV3+ Segmentation</title>\n",
        "  <style>\n",
        "    body {\n",
        "      font-family: 'Segoe UI', Tahoma, Geneva, Verdana, sans-serif;\n",
        "      background: linear-gradient(to right, #1e3c72, #2a5298);\n",
        "      color: #fff;\n",
        "      text-align: center;\n",
        "      padding-top: 50px;\n",
        "    }\n",
        "\n",
        "    h2 {\n",
        "      font-size: 28px;\n",
        "      margin-bottom: 20px;\n",
        "    }\n",
        "\n",
        "    form {\n",
        "      background-color: rgba(255, 255, 255, 0.1);\n",
        "      display: inline-block;\n",
        "      padding: 30px;\n",
        "      border-radius: 20px;\n",
        "      box-shadow: 0 8px 16px rgba(0,0,0,0.3);\n",
        "    }\n",
        "\n",
        "    input[type=\"file\"] {\n",
        "      font-size: 16px;\n",
        "      padding: 10px;\n",
        "      border-radius: 8px;\n",
        "      margin-bottom: 15px;\n",
        "    }\n",
        "\n",
        "    input[type=\"submit\"] {\n",
        "      font-size: 18px;\n",
        "      background-color: #00c3ff;\n",
        "      border: none;\n",
        "      padding: 10px 20px;\n",
        "      color: white;\n",
        "      border-radius: 8px;\n",
        "      cursor: pointer;\n",
        "      transition: background 0.3s ease;\n",
        "    }\n",
        "\n",
        "    input[type=\"submit\"]:hover {\n",
        "      background-color: #0090c7;\n",
        "    }\n",
        "\n",
        "    .result-img {\n",
        "    margin-top: 30px;\n",
        "    border: 5px solid white;\n",
        "    border-radius: 12px;\n",
        "    box-shadow: 0 5px 15px rgba(0,0,0,0.5);\n",
        "    transition: transform 0.3s ease;\n",
        "    }\n",
        "    .result-img:hover {\n",
        "    transform: scale(1.05);\n",
        "    }\n",
        "  </style>\n",
        "</head>\n",
        "<body>\n",
        "  <h2>Upload a 🛰️ Satellite Image (.tif) for Segmentation</h2>\n",
        "  <form method=post enctype=multipart/form-data>\n",
        "    <input type=file name=file><br><br>\n",
        "    <input type=submit value=\"Predict Mask\">\n",
        "  </form>\n",
        "\n",
        "  {% if result %}\n",
        "   <div>\n",
        "    <h3>🛰️ Original Satellite Image:</h3>\n",
        "    <img src=\"{{ url_for('static', filename='input_preview.png') }}\" width=\"512\" class=\"result-img\">\n",
        "   </div>\n",
        "   <div>\n",
        "    <h3>📊 Predicted vs Ground Truth:</h3>\n",
        "    <img src=\"{{ url_for('static', filename='comparison.png') }}\" width=\"512\" class=\"result-img\">\n",
        "   </div>\n",
        "  {% endif %}\n",
        "\n",
        "\n",
        "</body>\n",
        "</html>\n",
        "\"\"\"\n",
        "\n",
        "\n",
        "# دالة normalizing نفس اللي استخدمتها للتدريب\n",
        "def normalize_tiff_image(image):\n",
        "    if len(image.shape) == 3 and image.shape[0] == 12:\n",
        "        image = np.transpose(image, (1, 2, 0))\n",
        "\n",
        "    norm_image = np.zeros_like(image, dtype=np.float32)\n",
        "    for i in range(image.shape[2]):\n",
        "        band = image[:, :, i].astype(np.float32)\n",
        "        min_val = np.min(band)\n",
        "        max_val = np.max(band)\n",
        "        norm_image[:, :, i] = (band - min_val) / (max_val - min_val + 1e-6)\n",
        "    return norm_image\n",
        "\n",
        "\n",
        "@app.route('/', methods=['GET', 'POST'])\n",
        "def upload_file():\n",
        "    if request.method == 'POST':\n",
        "        tif_file = request.files['file']\n",
        "\n",
        "        if tif_file.filename.endswith('.tif'):\n",
        "            # 🧠 استخرج اسم الملف بدون الامتداد\n",
        "            base_name = os.path.splitext(tif_file.filename)[0]\n",
        "\n",
        "            # 🗂️ ابحث عن الماسك الحقيقي من نفس الاسم\n",
        "            gt_path = os.path.join(GROUND_TRUTH_MASK_DIR, base_name + \".png\")\n",
        "\n",
        "            print(f\"📂 Uploaded filename: {tif_file.filename}\")\n",
        "            print(f\"🔍 Expected GT mask path: {gt_path}\")\n",
        "            print(f\"🗂️ Mask directory exists? {os.path.exists(GROUND_TRUTH_MASK_DIR)}\")\n",
        "\n",
        "\n",
        "            if not os.path.exists(gt_path):\n",
        "                return f\"❌ Ground truth mask not found for {base_name}.png\", 404\n",
        "\n",
        "            # ✅ اقرأ الصورة .tif وطبّق normalization\n",
        "            img = tifffile.imread(tif_file)\n",
        "            img = normalize_tiff_image(img)\n",
        "\n",
        "            # تحقق من الحجم والشكل\n",
        "            from skimage.transform import resize\n",
        "            if img.shape[:2] != (128, 128):\n",
        "                img = resize(img, (128, 128, img.shape[2]), preserve_range=True, anti_aliasing=True)\n",
        "\n",
        "            if img.shape[-1] != 12:\n",
        "                return \"❌ Error: Input image must have 12 channels\", 400\n",
        "\n",
        "            img = np.expand_dims(img, axis=0)\n",
        "\n",
        "            # 🔮 توقع الماسك\n",
        "            pred = model.predict(img)\n",
        "            pred_mask = np.argmax(pred[0], axis=-1)\n",
        "\n",
        "            # ⬅️ حفظ صورة input الأصلية (أول 3 قنوات)\n",
        "            input_vis = img[0][:, :, :3]\n",
        "            plt.imsave(\"static/input_preview.png\", input_vis)\n",
        "\n",
        "\n",
        "            # 📥 حمّل الماسك الحقيقي\n",
        "            gt_mask = np.array(Image.open(gt_path))\n",
        "            print(f\"✅ Loaded GT mask with shape: {gt_mask.shape}\")\n",
        "\n",
        "            if gt_mask.ndim == 3:\n",
        "                gt_mask = gt_mask[:, :, 0]\n",
        "\n",
        "            # تأكد من تطابق الحجم\n",
        "            if gt_mask.shape != pred_mask.shape:\n",
        "                gt_mask = resize(gt_mask, pred_mask.shape, preserve_range=True, anti_aliasing=False).astype(np.uint8)\n",
        "\n",
        "            # 🔄 احفظ مقارنة\n",
        "            save_comparison(pred_mask, gt_mask)\n",
        "\n",
        "            return render_template_string(html, result=True)\n",
        "\n",
        "    return render_template_string(html)\n",
        "\n",
        "\n",
        "\n",
        "@app.route('/predict')\n",
        "def predict():\n",
        "    return send_file(\"result.png\", mimetype='image/png')\n",
        "\n",
        "# تشغيل التطبيق\n",
        "app.run(port=5000)\n"
      ],
      "metadata": {
        "id": "3ORGaoyCfziP",
        "colab": {
          "base_uri": "https://localhost:8080/"
        },
        "outputId": "b5671e06-9654-4aae-b3f4-bd032ea5b025"
      },
      "execution_count": null,
      "outputs": [
        {
          "output_type": "stream",
          "name": "stdout",
          "text": [
            "🚀 Flask app running at: NgrokTunnel: \"https://d96cb6feceda.ngrok-free.app\" -> \"http://localhost:5000\"\n",
            " * Serving Flask app '__main__'\n",
            " * Debug mode: off\n"
          ]
        },
        {
          "output_type": "stream",
          "name": "stderr",
          "text": [
            "INFO:werkzeug:\u001b[31m\u001b[1mWARNING: This is a development server. Do not use it in a production deployment. Use a production WSGI server instead.\u001b[0m\n",
            " * Running on http://127.0.0.1:5000\n",
            "INFO:werkzeug:\u001b[33mPress CTRL+C to quit\u001b[0m\n",
            "INFO:werkzeug:127.0.0.1 - - [31/Jul/2025 08:05:24] \"GET / HTTP/1.1\" 200 -\n",
            "INFO:werkzeug:127.0.0.1 - - [31/Jul/2025 08:05:25] \"\u001b[33mGET /favicon.ico HTTP/1.1\u001b[0m\" 404 -\n"
          ]
        },
        {
          "output_type": "stream",
          "name": "stdout",
          "text": [
            "📂 Uploaded filename: 161.tif\n",
            "🔍 Expected GT mask path: /content/drive/MyDrive/AI/satalite data/data/labels/161.png\n",
            "🗂️ Mask directory exists? True\n",
            "\u001b[1m1/1\u001b[0m \u001b[32m━━━━━━━━━━━━━━━━━━━━\u001b[0m\u001b[37m\u001b[0m \u001b[1m1s\u001b[0m 706ms/step\n"
          ]
        },
        {
          "output_type": "stream",
          "name": "stderr",
          "text": [
            "INFO:werkzeug:127.0.0.1 - - [31/Jul/2025 08:05:35] \"POST / HTTP/1.1\" 200 -\n"
          ]
        },
        {
          "output_type": "stream",
          "name": "stdout",
          "text": [
            "✅ Loaded GT mask with shape: (128, 128)\n"
          ]
        },
        {
          "output_type": "stream",
          "name": "stderr",
          "text": [
            "INFO:werkzeug:127.0.0.1 - - [31/Jul/2025 08:05:35] \"GET /static/comparison.png HTTP/1.1\" 200 -\n",
            "INFO:werkzeug:127.0.0.1 - - [31/Jul/2025 08:05:35] \"GET /static/input_preview.png HTTP/1.1\" 200 -\n"
          ]
        }
      ]
    },
    {
      "cell_type": "code",
      "source": [],
      "metadata": {
        "id": "T3OUUY8E4HJ9"
      },
      "execution_count": null,
      "outputs": []
    }
  ],
  "metadata": {
    "accelerator": "GPU",
    "colab": {
      "gpuType": "T4",
      "provenance": []
    },
    "kernelspec": {
      "display_name": "Python 3",
      "name": "python3"
    },
    "language_info": {
      "name": "python"
    }
  },
  "nbformat": 4,
  "nbformat_minor": 0
}